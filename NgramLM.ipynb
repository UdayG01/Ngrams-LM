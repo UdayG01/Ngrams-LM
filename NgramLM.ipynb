{
  "nbformat": 4,
  "nbformat_minor": 0,
  "metadata": {
    "colab": {
      "provenance": [],
      "authorship_tag": "ABX9TyPQsYOzdHRyrypM6tTfgpTW",
      "include_colab_link": true
    },
    "kernelspec": {
      "name": "python3",
      "display_name": "Python 3"
    },
    "language_info": {
      "name": "python"
    }
  },
  "cells": [
    {
      "cell_type": "markdown",
      "metadata": {
        "id": "view-in-github",
        "colab_type": "text"
      },
      "source": [
        "<a href=\"https://colab.research.google.com/github/UdayG01/Ngrams-LM/blob/main/NgramLM.ipynb\" target=\"_parent\"><img src=\"https://colab.research.google.com/assets/colab-badge.svg\" alt=\"Open In Colab\"/></a>"
      ]
    },
    {
      "cell_type": "markdown",
      "source": [
        "## Ngram LM\n",
        "\n",
        "<h5>Aim:</h5>\n",
        "\n",
        "* Here, I am trying to implement ngrams and how they help in generating text.\n",
        "\n",
        "<h5>Conclusions: </h5>\n",
        "\n",
        "* I faced some doubts as what exactly are \"corpus reader classes\" and how can we calculate the effects that would occur if I use not just bigrams or trigrams, but something of the higher order.\n",
        "* While some executions of the 'suggest_next_word()' function gave out acceptable predictions, there were a few where I faced a ZeroDivisionError - this leads to the conclusion that there were no bigrams in the corpus that were matching the input phrase as provided in the function.\n"
      ],
      "metadata": {
        "id": "IOi1Lu7Y7roN"
      }
    },
    {
      "cell_type": "code",
      "execution_count": null,
      "metadata": {
        "id": "zQD8eyaXwVFn"
      },
      "outputs": [],
      "source": [
        "from nltk.corpus import brown\n",
        "from nltk.tokenize import word_tokenize"
      ]
    },
    {
      "cell_type": "code",
      "source": [
        "import nltk\n",
        "nltk.download('brown')\n",
        "nltk.download('punkt')"
      ],
      "metadata": {
        "colab": {
          "base_uri": "https://localhost:8080/"
        },
        "id": "tP41ChGx6l1S",
        "outputId": "2fa73f5c-4598-41ec-d53a-4f7c71cbd64e"
      },
      "execution_count": null,
      "outputs": [
        {
          "output_type": "stream",
          "name": "stderr",
          "text": [
            "[nltk_data] Downloading package brown to /root/nltk_data...\n",
            "[nltk_data]   Unzipping corpora/brown.zip.\n",
            "[nltk_data] Downloading package punkt to /root/nltk_data...\n",
            "[nltk_data]   Unzipping tokenizers/punkt.zip.\n"
          ]
        },
        {
          "output_type": "execute_result",
          "data": {
            "text/plain": [
              "True"
            ]
          },
          "metadata": {},
          "execution_count": 3
        }
      ]
    },
    {
      "cell_type": "code",
      "source": [
        "# Loading the corpus\n",
        "corpus = brown.words()\n",
        "\n",
        "# Case folding and getting vocab\n",
        "lower_case_corpus = [w.lower() for w in corpus]\n",
        "vocab = set(lower_case_corpus)\n",
        "\n",
        "print('CORPUS EXAMPLE: ' + str(lower_case_corpus[:30]) + '\\n\\n')\n",
        "print('VOCAB EXAMPLE: ' + str(list(vocab)[:10]))"
      ],
      "metadata": {
        "colab": {
          "base_uri": "https://localhost:8080/"
        },
        "id": "-V0Yi2sU5pXg",
        "outputId": "3101536a-c7b0-4795-ed0b-1d4c038ca0dd"
      },
      "execution_count": null,
      "outputs": [
        {
          "output_type": "stream",
          "name": "stdout",
          "text": [
            "CORPUS EXAMPLE: ['the', 'fulton', 'county', 'grand', 'jury', 'said', 'friday', 'an', 'investigation', 'of', \"atlanta's\", 'recent', 'primary', 'election', 'produced', '``', 'no', 'evidence', \"''\", 'that', 'any', 'irregularities', 'took', 'place', '.', 'the', 'jury', 'further', 'said', 'in']\n",
            "\n",
            "\n",
            "VOCAB EXAMPLE: ['penna.', 'expects', 'defying', 'sighting', 'word', 'competitors', 'escutcheons', 'seasonally', 'jail', 'bmews']\n"
          ]
        }
      ]
    },
    {
      "cell_type": "code",
      "source": [
        "print('Total words in Corpus: ' + str(len(lower_case_corpus)))\n",
        "print('Vocab of the Corpus: ' + str(len(vocab)))"
      ],
      "metadata": {
        "colab": {
          "base_uri": "https://localhost:8080/"
        },
        "id": "UzrQXf7c5r8f",
        "outputId": "8b3850d5-8a60-4e46-dca1-d08c068f3697"
      },
      "execution_count": null,
      "outputs": [
        {
          "output_type": "stream",
          "name": "stdout",
          "text": [
            "Total words in Corpus: 1161192\n",
            "Vocab of the Corpus: 49815\n"
          ]
        }
      ]
    },
    {
      "cell_type": "code",
      "source": [
        "bigram_counts = {}\n",
        "trigram_counts = {}\n",
        "\n",
        "# Sliding through corpus to get bigram and trigram counts\n",
        "for i in range(len(lower_case_corpus) - 2):\n",
        "    # Getting bigram and trigram at each slide\n",
        "    bigram = (lower_case_corpus[i], lower_case_corpus[i+1])\n",
        "    trigram = (lower_case_corpus[i], lower_case_corpus[i+1], lower_case_corpus[i+2])\n",
        "\n",
        "    # Keeping track of the bigram counts\n",
        "    if bigram in bigram_counts.keys():\n",
        "        bigram_counts[bigram] += 1\n",
        "    else:\n",
        "        bigram_counts[bigram] = 1\n",
        "\n",
        "    # Keeping track of trigram counts\n",
        "    if trigram in trigram_counts.keys():\n",
        "        trigram_counts[trigram] += 1\n",
        "    else:\n",
        "        trigram_counts[trigram] = 1\n",
        "\n",
        "print(\"Example, count for bigram ('the', 'king') is: \" + str(bigram_counts[('the', 'king')]))"
      ],
      "metadata": {
        "colab": {
          "base_uri": "https://localhost:8080/"
        },
        "id": "uKFZm37j5xAE",
        "outputId": "97d9c2d9-66c6-4b22-9513-065c331a8e03"
      },
      "execution_count": null,
      "outputs": [
        {
          "output_type": "stream",
          "name": "stdout",
          "text": [
            "Example, count for bigram ('the', 'king') is: 51\n"
          ]
        }
      ]
    },
    {
      "cell_type": "code",
      "source": [
        "# Function takes sentence as input and suggests possible words that comes after the sentence\n",
        "def suggest_next_word(input_, bigram_counts, trigram_counts, vocab):\n",
        "    # Consider the last bigram of sentence\n",
        "    tokenized_input = word_tokenize(input_.lower())\n",
        "    last_bigram = tokenized_input[-2:]\n",
        "\n",
        "    # Calculating probability for each word in vocab\n",
        "    vocab_probabilities = {}\n",
        "    for vocab_word in vocab:\n",
        "        test_trigram = (last_bigram[0], last_bigram[1], vocab_word)\n",
        "        test_bigram = (last_bigram[0], last_bigram[1])\n",
        "\n",
        "        test_trigram_count = trigram_counts.get(test_trigram, 0)\n",
        "        test_bigram_count = bigram_counts.get(test_bigram, 0)\n",
        "\n",
        "        probability = test_trigram_count / test_bigram_count\n",
        "        vocab_probabilities[vocab_word] = probability\n",
        "\n",
        "    # Sorting the vocab probability in descending order to get top probable words\n",
        "    top_suggestions = sorted(vocab_probabilities.items(), key=lambda x: x[1], reverse=True)[:3]\n",
        "    return top_suggestions"
      ],
      "metadata": {
        "id": "UrYbGmdL5x9V"
      },
      "execution_count": null,
      "outputs": []
    },
    {
      "cell_type": "code",
      "source": [
        "suggest_next_word('I am', bigram_counts, trigram_counts, vocab)"
      ],
      "metadata": {
        "colab": {
          "base_uri": "https://localhost:8080/"
        },
        "id": "qE2bY91BepiW",
        "outputId": "7c88e370-636c-43f3-a07c-4fcda16ce6a0"
      },
      "execution_count": null,
      "outputs": [
        {
          "output_type": "execute_result",
          "data": {
            "text/plain": [
              "[('not', 0.11594202898550725),\n",
              " ('a', 0.06280193236714976),\n",
              " ('sure', 0.04830917874396135)]"
            ]
          },
          "metadata": {},
          "execution_count": 8
        }
      ]
    },
    {
      "cell_type": "code",
      "source": [
        "suggest_next_word('the investigation produced', bigram_counts, trigram_counts, vocab)"
      ],
      "metadata": {
        "colab": {
          "base_uri": "https://localhost:8080/",
          "height": 299
        },
        "id": "VCgg1RiMevny",
        "outputId": "736d7810-adac-44ed-844a-812066ba537f"
      },
      "execution_count": null,
      "outputs": [
        {
          "output_type": "error",
          "ename": "ZeroDivisionError",
          "evalue": "ignored",
          "traceback": [
            "\u001b[0;31m---------------------------------------------------------------------------\u001b[0m",
            "\u001b[0;31mZeroDivisionError\u001b[0m                         Traceback (most recent call last)",
            "\u001b[0;32m<ipython-input-10-dde5c8e09ffb>\u001b[0m in \u001b[0;36m<cell line: 1>\u001b[0;34m()\u001b[0m\n\u001b[0;32m----> 1\u001b[0;31m \u001b[0msuggest_next_word\u001b[0m\u001b[0;34m(\u001b[0m\u001b[0;34m'the investigation produced'\u001b[0m\u001b[0;34m,\u001b[0m \u001b[0mbigram_counts\u001b[0m\u001b[0;34m,\u001b[0m \u001b[0mtrigram_counts\u001b[0m\u001b[0;34m,\u001b[0m \u001b[0mvocab\u001b[0m\u001b[0;34m)\u001b[0m\u001b[0;34m\u001b[0m\u001b[0;34m\u001b[0m\u001b[0m\n\u001b[0m",
            "\u001b[0;32m<ipython-input-7-2d8519c38d69>\u001b[0m in \u001b[0;36msuggest_next_word\u001b[0;34m(input_, bigram_counts, trigram_counts, vocab)\u001b[0m\n\u001b[1;32m     14\u001b[0m         \u001b[0mtest_bigram_count\u001b[0m \u001b[0;34m=\u001b[0m \u001b[0mbigram_counts\u001b[0m\u001b[0;34m.\u001b[0m\u001b[0mget\u001b[0m\u001b[0;34m(\u001b[0m\u001b[0mtest_bigram\u001b[0m\u001b[0;34m,\u001b[0m \u001b[0;36m0\u001b[0m\u001b[0;34m)\u001b[0m\u001b[0;34m\u001b[0m\u001b[0;34m\u001b[0m\u001b[0m\n\u001b[1;32m     15\u001b[0m \u001b[0;34m\u001b[0m\u001b[0m\n\u001b[0;32m---> 16\u001b[0;31m         \u001b[0mprobability\u001b[0m \u001b[0;34m=\u001b[0m \u001b[0mtest_trigram_count\u001b[0m \u001b[0;34m/\u001b[0m \u001b[0mtest_bigram_count\u001b[0m\u001b[0;34m\u001b[0m\u001b[0;34m\u001b[0m\u001b[0m\n\u001b[0m\u001b[1;32m     17\u001b[0m         \u001b[0mvocab_probabilities\u001b[0m\u001b[0;34m[\u001b[0m\u001b[0mvocab_word\u001b[0m\u001b[0;34m]\u001b[0m \u001b[0;34m=\u001b[0m \u001b[0mprobability\u001b[0m\u001b[0;34m\u001b[0m\u001b[0;34m\u001b[0m\u001b[0m\n\u001b[1;32m     18\u001b[0m \u001b[0;34m\u001b[0m\u001b[0m\n",
            "\u001b[0;31mZeroDivisionError\u001b[0m: division by zero"
          ]
        }
      ]
    },
    {
      "cell_type": "code",
      "source": [
        "suggest_next_word(\"atlanta's recent election\", bigram_counts, trigram_counts, vocab)"
      ],
      "metadata": {
        "colab": {
          "base_uri": "https://localhost:8080/",
          "height": 299
        },
        "id": "-lvAhAcofCsK",
        "outputId": "8a0d8fc1-281e-4f4a-9ac9-014dddda377a"
      },
      "execution_count": null,
      "outputs": [
        {
          "output_type": "error",
          "ename": "ZeroDivisionError",
          "evalue": "ignored",
          "traceback": [
            "\u001b[0;31m---------------------------------------------------------------------------\u001b[0m",
            "\u001b[0;31mZeroDivisionError\u001b[0m                         Traceback (most recent call last)",
            "\u001b[0;32m<ipython-input-11-b86d8db5e314>\u001b[0m in \u001b[0;36m<cell line: 1>\u001b[0;34m()\u001b[0m\n\u001b[0;32m----> 1\u001b[0;31m \u001b[0msuggest_next_word\u001b[0m\u001b[0;34m(\u001b[0m\u001b[0;34m\"atlanta's recent election\"\u001b[0m\u001b[0;34m,\u001b[0m \u001b[0mbigram_counts\u001b[0m\u001b[0;34m,\u001b[0m \u001b[0mtrigram_counts\u001b[0m\u001b[0;34m,\u001b[0m \u001b[0mvocab\u001b[0m\u001b[0;34m)\u001b[0m\u001b[0;34m\u001b[0m\u001b[0;34m\u001b[0m\u001b[0m\n\u001b[0m",
            "\u001b[0;32m<ipython-input-7-2d8519c38d69>\u001b[0m in \u001b[0;36msuggest_next_word\u001b[0;34m(input_, bigram_counts, trigram_counts, vocab)\u001b[0m\n\u001b[1;32m     14\u001b[0m         \u001b[0mtest_bigram_count\u001b[0m \u001b[0;34m=\u001b[0m \u001b[0mbigram_counts\u001b[0m\u001b[0;34m.\u001b[0m\u001b[0mget\u001b[0m\u001b[0;34m(\u001b[0m\u001b[0mtest_bigram\u001b[0m\u001b[0;34m,\u001b[0m \u001b[0;36m0\u001b[0m\u001b[0;34m)\u001b[0m\u001b[0;34m\u001b[0m\u001b[0;34m\u001b[0m\u001b[0m\n\u001b[1;32m     15\u001b[0m \u001b[0;34m\u001b[0m\u001b[0m\n\u001b[0;32m---> 16\u001b[0;31m         \u001b[0mprobability\u001b[0m \u001b[0;34m=\u001b[0m \u001b[0mtest_trigram_count\u001b[0m \u001b[0;34m/\u001b[0m \u001b[0mtest_bigram_count\u001b[0m\u001b[0;34m\u001b[0m\u001b[0;34m\u001b[0m\u001b[0m\n\u001b[0m\u001b[1;32m     17\u001b[0m         \u001b[0mvocab_probabilities\u001b[0m\u001b[0;34m[\u001b[0m\u001b[0mvocab_word\u001b[0m\u001b[0;34m]\u001b[0m \u001b[0;34m=\u001b[0m \u001b[0mprobability\u001b[0m\u001b[0;34m\u001b[0m\u001b[0;34m\u001b[0m\u001b[0m\n\u001b[1;32m     18\u001b[0m \u001b[0;34m\u001b[0m\u001b[0m\n",
            "\u001b[0;31mZeroDivisionError\u001b[0m: division by zero"
          ]
        }
      ]
    },
    {
      "cell_type": "code",
      "source": [
        "suggest_next_word('I am the king', bigram_counts, trigram_counts, vocab)"
      ],
      "metadata": {
        "colab": {
          "base_uri": "https://localhost:8080/"
        },
        "id": "Yqy8IqNd51TM",
        "outputId": "6697a222-0246-4824-9164-e8f6072da899"
      },
      "execution_count": null,
      "outputs": [
        {
          "output_type": "execute_result",
          "data": {
            "text/plain": [
              "[('james', 0.17647058823529413),\n",
              " ('of', 0.1568627450980392),\n",
              " ('arthur', 0.11764705882352941)]"
            ]
          },
          "metadata": {},
          "execution_count": 12
        }
      ]
    },
    {
      "cell_type": "code",
      "source": [
        "suggest_next_word('I am the king of', bigram_counts, trigram_counts, vocab)"
      ],
      "metadata": {
        "colab": {
          "base_uri": "https://localhost:8080/"
        },
        "id": "TkEE8JYr54U-",
        "outputId": "cb650d51-e7b5-4f0f-a232-8a8a6becdd55"
      },
      "execution_count": null,
      "outputs": [
        {
          "output_type": "execute_result",
          "data": {
            "text/plain": [
              "[('france', 0.3333333333333333),\n",
              " ('hearts', 0.16666666666666666),\n",
              " ('spain', 0.08333333333333333)]"
            ]
          },
          "metadata": {},
          "execution_count": 13
        }
      ]
    },
    {
      "cell_type": "code",
      "source": [
        "suggest_next_word('I am the king of france', bigram_counts, trigram_counts, vocab)"
      ],
      "metadata": {
        "colab": {
          "base_uri": "https://localhost:8080/"
        },
        "id": "vzkWcf2m56ZY",
        "outputId": "335439c7-8920-4997-e976-25eff5195363"
      },
      "execution_count": null,
      "outputs": [
        {
          "output_type": "execute_result",
          "data": {
            "text/plain": [
              "[('.', 0.26666666666666666), ('and', 0.26666666666666666), (',', 0.2)]"
            ]
          },
          "metadata": {},
          "execution_count": 14
        }
      ]
    },
    {
      "cell_type": "code",
      "source": [
        "suggest_next_word('I am the king of france and', bigram_counts, trigram_counts, vocab)"
      ],
      "metadata": {
        "colab": {
          "base_uri": "https://localhost:8080/"
        },
        "id": "qoaaMtdu59Gs",
        "outputId": "8eb718af-cbaa-43a9-8d17-779c0f247d46"
      },
      "execution_count": null,
      "outputs": [
        {
          "output_type": "execute_result",
          "data": {
            "text/plain": [
              "[('the', 0.2),\n",
              " ('germany', 0.13333333333333333),\n",
              " ('other', 0.06666666666666667)]"
            ]
          },
          "metadata": {},
          "execution_count": 15
        }
      ]
    }
  ]
}